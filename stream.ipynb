{
 "cells": [
  {
   "cell_type": "code",
   "execution_count": 1,
   "metadata": {},
   "outputs": [
    {
     "name": "stderr",
     "output_type": "stream",
     "text": [
      "2022-06-27 22:33:17.758 INFO    numexpr.utils: NumExpr defaulting to 8 threads.\n",
      "2022-06-27 22:33:20.085 \n",
      "  \u001b[33m\u001b[1mWarning:\u001b[0m to view this Streamlit app on a browser, run it with the following\n",
      "  command:\n",
      "\n",
      "    streamlit run /home/abhimhamane/anaconda3/envs/streamlit-env/lib/python3.9/site-packages/ipykernel_launcher.py [ARGUMENTS]\n"
     ]
    }
   ],
   "source": [
    "import re\n",
    "import streamlit as st\n",
    "from sympy.physics.continuum_mechanics import Beam\n",
    "import sympy\n",
    "from sympy import SingularityFunction\n",
    "\n",
    "import matplotlib.pyplot as plt\n",
    "\n",
    "import numpy as np\n",
    "\n",
    "import pandas as pd\n",
    "\n",
    "st.write(\"\"\"\n",
    "# Simple Beam Analysis\n",
    "\n",
    "\"\"\")\n",
    "\n",
    "st.sidebar.header('User Input Parameters')\n",
    "\n",
    "def user_input_features(): \n",
    "    # Beam Length in Meters\n",
    "    beam_length = st.sidebar.slider('Beam Length', 5.0, 25.0, 10.0, step=2.5)\n",
    "    # Start Supports\n",
    "    start_Support = st.sidebar.selectbox('Start Support',('Fix', 'Pin', 'Roller'))\n",
    "    end_Support = st.sidebar.selectbox('End Support',('Fix', 'Pin'))\n",
    "\n",
    "    #Point Load in kN\n",
    "    point_load = st.sidebar.slider('Point Load Magnitude', 0.0, 25.0, 10.0, step=5.0)\n",
    "\n",
    "    point_load_loc = st.sidebar.slider('Point Load Loc:', 0.0, beam_length, 3.0, step=2.5)\n",
    "    \n",
    "    # Udl load is in kN/m\n",
    "    udl_load = st.sidebar.slider('UDL Magnitude', 0.0, 25.0, 5.0 ,step = 5.0)\n",
    "\n",
    "    udl_start_loc = st.sidebar.slider('UDL Start Loc', 0.0, beam_length - 5.0, 0.0, step=2.5)\n",
    "    udl_end_loc = st.sidebar.slider('UDL End Loc', udl_start_loc+2.5, beam_length, beam_length, step=2.5)\n",
    "\n",
    "    #Point Load in kN-m\n",
    "    moment_load = st.sidebar.slider('Moment Magnitude', -20.0, 20.0, 0.0, step=5.0)\n",
    "\n",
    "    moment_loc = st.sidebar.slider('Moment Loc:', 0.0, beam_length, 4.0, step=2.5)\n",
    "\n",
    "    \n",
    "    data = {'beam_length': beam_length,\n",
    "            'start_Support': start_Support,\n",
    "            'end_Support': end_Support,\n",
    "            'E': 25000.0,\n",
    "            'Izz': 0.0005}\n",
    "\n",
    "    features = pd.DataFrame(data, index=[0])\n",
    "    beam_data = [beam_length, start_Support, end_Support]\n",
    "\n",
    "    point_data = [point_load, point_load_loc]\n",
    "    \n",
    "    moment_data = [moment_load, moment_loc]\n",
    "    \n",
    "    UDL_data = [udl_load, udl_start_loc, udl_end_loc]\n",
    "\n",
    "    return features, beam_data, point_data, moment_data, UDL_data\n",
    "\n",
    "df, beam_data, point_data, moment_data, UDL_data = user_input_features()\n",
    "\n",
    "st.subheader('User Input parameters')\n",
    "st.write(df)\n",
    "\n",
    "# Logic\n",
    "E = 25000\n",
    "I = 0.0005\n",
    "\n",
    "#print(beam_data, point_data)\n",
    "\n",
    "L = beam_data[0]\n",
    "lt_sprt = beam_data[1]\n",
    "rt_sprt = beam_data[2]\n",
    "\n",
    "beam_inst = Beam(L, E, I)\n",
    "\n",
    "def sympy_variable(x:str):\n",
    "        return sympy.symbols(x)\n",
    "\n",
    "def apply_end_support_loads(beam_inst, L):\n",
    "    sympy_symbols = []\n",
    "    beam_inst.bc_deflection = []\n",
    "    beam_inst.bc_slope = []\n",
    "    if lt_sprt == \"Fix\":\n",
    "        R_0 = sympy_variable(\"R_0\")\n",
    "        M_0 = sympy_variable(\"M_0\")\n",
    "        sympy_symbols.append(R_0)\n",
    "        sympy_symbols.append(M_0)\n",
    "        beam_inst.apply_load(R_0, 0, -1)\n",
    "        beam_inst.apply_load(M_0, 0, -2)\n",
    "        beam_inst.bc_deflection.append((0,0))\n",
    "        beam_inst.bc_slope.append((0,0))\n",
    "    else:\n",
    "        R_0 = sympy_variable(\"R_0\")\n",
    "        sympy_symbols.append(R_0)\n",
    "        beam_inst.apply_load(R_0, 0, -1)\n",
    "        beam_inst.bc_deflection.append((0,0))\n",
    "\n",
    "    if rt_sprt == \"Fix\":\n",
    "        r_end = sympy_variable(\"R_\" + str(L))\n",
    "        m_end = sympy_variable(\"M_\" + str(L))\n",
    "        sympy_symbols.append(r_end)\n",
    "        sympy_symbols.append(m_end)\n",
    "        beam_inst.apply_load(r_end, L, -1)\n",
    "        beam_inst.apply_load(m_end, L, -2)\n",
    "        beam_inst.bc_deflection.append((L,0))\n",
    "        beam_inst.bc_slope.append((L,0))\n",
    "    else:\n",
    "        r_end = sympy_variable(\"R_\" + str(L))\n",
    "        sympy_symbols.append(r_end)\n",
    "        beam_inst.apply_load(r_end, L, -1)\n",
    "        beam_inst.bc_deflection.append((L,0))\n",
    "    \n",
    "    return sympy_symbols\n",
    "\n",
    "reaction_symbols = apply_end_support_loads(beam_inst ,L)\n",
    "\n",
    "\n",
    "beam_inst.apply_load(point_data[0], point_data[1], -1)\n",
    "beam_inst.apply_load(moment_data[0], moment_data[1], -2)\n",
    "beam_inst.apply_load(UDL_data[0], UDL_data[1], 0, end=UDL_data[2])\n",
    "\n",
    "\n",
    "if len(reaction_symbols) == 4:\n",
    "    beam_inst.solve_for_reaction_loads(reaction_symbols[0], reaction_symbols[1] ,reaction_symbols[2], reaction_symbols[3])\n",
    "elif len(reaction_symbols) == 3:\n",
    "    beam_inst.solve_for_reaction_loads(reaction_symbols[0], reaction_symbols[1] ,reaction_symbols[2])\n",
    "else:\n",
    "    beam_inst.solve_for_reaction_loads(reaction_symbols[0], reaction_symbols[1])\n",
    "\n",
    "\n"
   ]
  },
  {
   "cell_type": "code",
   "execution_count": 35,
   "metadata": {},
   "outputs": [],
   "source": [
    "#beam_inst.plot_slope()"
   ]
  },
  {
   "cell_type": "code",
   "execution_count": 2,
   "metadata": {},
   "outputs": [
    {
     "data": {
      "image/png": "[encoded data removed]",
      "text/plain": [
       "<Figure size 432x288 with 1 Axes>"
      ]
     },
     "metadata": {
      "needs_background": "light"
     },
     "output_type": "display_data"
    },
    {
     "name": "stderr",
     "output_type": "stream",
     "text": [
      "/home/abhimhamane/anaconda3/envs/streamlit-env/lib/python3.9/site-packages/sympy/plotting/plot.py:1618: RuntimeWarning: invalid value encountered in double_scalars\n",
      "  cos_theta = dot_product / (vector_a_norm * vector_b_norm)\n"
     ]
    },
    {
     "data": {
      "image/png": "[encoded data removed]",
      "text/plain": [
       "<Figure size 432x288 with 1 Axes>"
      ]
     },
     "metadata": {
      "needs_background": "light"
     },
     "output_type": "display_data"
    },
    {
     "data": {
      "image/png": "[encoded data removed]",
      "text/plain": [
       "<Figure size 432x288 with 1 Axes>"
      ]
     },
     "metadata": {
      "needs_background": "light"
     },
     "output_type": "display_data"
    }
   ],
   "source": [
    "##### Cantilever Beam\n",
    "L = 10.0\n",
    "E = 25000\n",
    "I = 0.000525\n",
    "\n",
    "b1 = Beam(L, E, I)\n",
    "\n",
    "R1 = sympy_variable(\"R_0\")\n",
    "\n",
    "M0 = sympy_variable(\"M_0\")\n",
    "\n",
    "#r_end = sympy_variable(\"R_10\")\n",
    "\n",
    "\n",
    "\n",
    "\n",
    "b1.apply_load(R1, 0, -1)\n",
    "b1.apply_load(M0, 0, -2)\n",
    "#b1.apply_load(r_end, L, -1)\n",
    "#b1.apply_load(m_end, L, -2)\n",
    "\n",
    "\n",
    "#b1.apply_load(10.0, 2.5, -1)\n",
    "b1.apply_load(15.0, 0.0, 0, end=L)\n",
    "\n",
    "b1.bc_deflection.append((0,0))\n",
    "b1.bc_deflection.append((L, 0))\n",
    "#b1.bc_slope.append((0,0))\n",
    "#b1.bc_slope.append((L,0))\n",
    "\n",
    "b1.solve_for_reaction_loads(R1, M0)\n",
    "b1.reaction_loads\n",
    "\n",
    "\n",
    "\n",
    "#b1.solve_for_reaction_loads(R1 ,M0, R2)\n",
    "#v= b1.plot_shear_force()\n",
    "sh_eq = b1.shear_force()\n",
    "bm_eqn = b1.bending_moment()\n",
    "#slp_eqn = b1.slope()\n",
    "#defl_eqn = b1.deflection()\n",
    "ax_x = np.arange(0, L, 0.05)\n",
    "#print(ax_x)\n",
    "x = sympy.symbols(\"x\")\n",
    "shear_y = []\n",
    "\n",
    "for i in ax_x:\n",
    "    shear_y.append(sh_eq.subs(x, i))\n",
    "\n",
    "_pen = b1.draw()\n",
    "_pen.show()\n",
    "\n",
    "b1.plot_shear_force()\n",
    "b1.plot_bending_moment()\n",
    "\n",
    "shear_eqn = b1.shear_force()\n",
    "moment_eqn = b1.bending_moment()"
   ]
  },
  {
   "cell_type": "code",
   "execution_count": 3,
   "metadata": {},
   "outputs": [],
   "source": [
    "x = sympy.symbols(\"x\")\n",
    "\n",
    "C1 = sympy.symbols(\"C1\")\n",
    "C2 = sympy.symbols(\"C2\")\n",
    "\n",
    "integrated_slp = sympy.integrate(moment_eqn, x)/(E*I) + C1\n",
    "\n",
    "integrated_defl = sympy.integrate(integrated_slp, x) + C2"
   ]
  },
  {
   "cell_type": "code",
   "execution_count": 4,
   "metadata": {},
   "outputs": [
    {
     "data": {
      "text/latex": [
       "$\\displaystyle C_{2}$"
      ],
      "text/plain": [
       "C2"
      ]
     },
     "execution_count": 4,
     "metadata": {},
     "output_type": "execute_result"
    }
   ],
   "source": [
    "integrated_defl.subs(x, 0.0)"
   ]
  },
  {
   "cell_type": "code",
   "execution_count": 409,
   "metadata": {},
   "outputs": [],
   "source": [
    "_bc = integrated_defl.subs(x, L) \n",
    "# C2 = 0\n",
    "#C1 = 0"
   ]
  },
  {
   "cell_type": "code",
   "execution_count": 415,
   "metadata": {},
   "outputs": [
    {
     "data": {
      "text/latex": [
       "$\\displaystyle 10.0 C_{1} - 1428.57142857143$"
      ],
      "text/plain": [
       "10.0*C1 - 1428.57142857143"
      ]
     },
     "execution_count": 415,
     "metadata": {},
     "output_type": "execute_result"
    }
   ],
   "source": [
    "_bc"
   ]
  },
  {
   "cell_type": "code",
   "execution_count": 416,
   "metadata": {},
   "outputs": [],
   "source": [
    "_bc = _bc.subs(C2, 0.0)"
   ]
  },
  {
   "cell_type": "code",
   "execution_count": 417,
   "metadata": {},
   "outputs": [
    {
     "data": {
      "text/latex": [
       "$\\displaystyle 10.0 C_{1} - 1428.57142857143$"
      ],
      "text/plain": [
       "10.0*C1 - 1428.57142857143"
      ]
     },
     "execution_count": 417,
     "metadata": {},
     "output_type": "execute_result"
    }
   ],
   "source": [
    "_bc"
   ]
  },
  {
   "cell_type": "code",
   "execution_count": 427,
   "metadata": {},
   "outputs": [],
   "source": [
    "integrated_defl = integrated_defl.subs(C1, 0.0)\n",
    "integrated_defl = integrated_defl.subs(C2, 0.0)"
   ]
  },
  {
   "cell_type": "code",
   "execution_count": 419,
   "metadata": {},
   "outputs": [
    {
     "data": {
      "text/latex": [
       "$\\displaystyle - 28.5714285714286 {\\left\\langle x \\right\\rangle}^{2} + 1.9047619047619 {\\left\\langle x \\right\\rangle}^{3} - 0.0476190476190476 {\\left\\langle x \\right\\rangle}^{4} + 0.0476190476190476 {\\left\\langle x - 10.0 \\right\\rangle}^{4}$"
      ],
      "text/plain": [
       "-28.5714285714286*SingularityFunction(x, 0, 2) + 1.9047619047619*SingularityFunction(x, 0, 3) - 0.0476190476190476*SingularityFunction(x, 0.0, 4) + 0.0476190476190476*SingularityFunction(x, 10.0, 4)"
      ]
     },
     "execution_count": 419,
     "metadata": {},
     "output_type": "execute_result"
    }
   ],
   "source": [
    "integrated_defl"
   ]
  },
  {
   "cell_type": "code",
   "execution_count": 428,
   "metadata": {},
   "outputs": [
    {
     "data": {
      "text/plain": [
       "[<matplotlib.lines.Line2D at 0x7fb139d36400>]"
      ]
     },
     "execution_count": 428,
     "metadata": {},
     "output_type": "execute_result"
    },
    {
     "data": {
      "image/png": "[encoded data removed]",
      "text/plain": [
       "<Figure size 432x288 with 1 Axes>"
      ]
     },
     "metadata": {
      "needs_background": "light"
     },
     "output_type": "display_data"
    }
   ],
   "source": [
    "ax_x = list(np.linspace(0, L, 100))\n",
    "x = sympy.symbols(\"x\")\n",
    "defl_val = []\n",
    "for i in ax_x:\n",
    "    defl_val.append(integrated_defl.subs(x, i))\n",
    "\n",
    "plt.plot(ax_x, defl_val)"
   ]
  },
  {
   "cell_type": "code",
   "execution_count": 5,
   "metadata": {},
   "outputs": [
    {
     "data": {
      "image/png": "[encoded data removed]",
      "text/plain": [
       "<Figure size 432x288 with 1 Axes>"
      ]
     },
     "metadata": {
      "needs_background": "light"
     },
     "output_type": "display_data"
    },
    {
     "data": {
      "image/png": "[encoded data removed]",
      "text/plain": [
       "<Figure size 432x288 with 1 Axes>"
      ]
     },
     "metadata": {
      "needs_background": "light"
     },
     "output_type": "display_data"
    },
    {
     "data": {
      "image/png": "[encoded data removed]",
      "text/plain": [
       "<Figure size 432x288 with 1 Axes>"
      ]
     },
     "metadata": {
      "needs_background": "light"
     },
     "output_type": "display_data"
    },
    {
     "data": {
      "text/plain": [
       "sympy.core.add.Add"
      ]
     },
     "execution_count": 5,
     "metadata": {},
     "output_type": "execute_result"
    }
   ],
   "source": [
    "L = 20.0\n",
    "E = 25000\n",
    "I = 0.000525\n",
    "\n",
    "## Continuous Beam ##\n",
    "cont_beam = Beam(L, E,I)\n",
    "left_sprt = \"Fixed\"\n",
    "right_sprt = \"Roller\"\n",
    "\n",
    "num_spans = 2\n",
    "num_sprts = num_spans + 1\n",
    "sprt_spacing = L/num_spans\n",
    "\n",
    "sprt_locations = list(np.linspace(0, L, num_sprts))\n",
    "\n",
    "beam_viz = Beam(L,E,I)\n",
    "\n",
    "beam_viz.apply_support(0, \"fixed\")\n",
    "\n",
    "\n",
    "for loc in sprt_locations[1:-1]:\n",
    "    beam_viz.apply_support(loc, \"roller\")\n",
    "\n",
    "beam_viz.apply_support(L, \"roller\")\n",
    "\n",
    "#cont_pen = beam_viz.draw()\n",
    "#cont_pen.show()\n",
    "beam_sprt = beam_viz.applied_loads\n",
    "\n",
    "sprt_symbs = []\n",
    "sprt_order = []\n",
    "sprt_start_loc = []\n",
    "\n",
    "for spr in beam_sprt:\n",
    "    sprt_symbs.append(spr[0])\n",
    "    sprt_order.append(spr[2])\n",
    "    sprt_start_loc.append(spr[1])\n",
    "\n",
    "for i in range(len(sprt_order)):\n",
    "    if sprt_order[i] == -1:\n",
    "        cont_beam.apply_load(sprt_symbs[i], sprt_start_loc[i], -1)\n",
    "        cont_beam.bc_deflection.append((sprt_start_loc[i], 0))\n",
    "    elif sprt_order[i] == -2:\n",
    "        cont_beam.apply_load(sprt_symbs[i], sprt_start_loc[i], -2)\n",
    "        cont_beam.bc_slope.append((sprt_start_loc[i], 0))\n",
    "\n",
    "\n",
    "cont_beam.apply_load(10, 2.5, 0, 12.5)\n",
    "cont_beam.apply_load(15, 13.5, -1)\n",
    "\n",
    "_pen = cont_beam.draw()\n",
    "_pen.show()\n",
    "\n",
    "cont_beam.solve_for_reaction_loads(sprt_symbs[0], sprt_symbs[1], sprt_symbs[2], sprt_symbs[3])\n",
    "\n",
    "cont_beam.reaction_loads\n",
    "cont_beam.plot_shear_force()\n",
    "cont_beam.plot_bending_moment()\n",
    "#cont_beam.plot_slope()\n",
    "\n",
    "shear_eqn = cont_beam.shear_force()\n",
    "moment_eqn = cont_beam.bending_moment()\n",
    "type(moment_eqn)\n",
    "#Deflection does not work"
   ]
  },
  {
   "cell_type": "code",
   "execution_count": 90,
   "metadata": {},
   "outputs": [
    {
     "data": {
      "text/latex": [
       "$\\displaystyle C_{1} - 5.27574829931972 {\\left\\langle x \\right\\rangle}^{1} + 1.09270153061224 {\\left\\langle x \\right\\rangle}^{2} - 0.126984126984127 {\\left\\langle x - 2.5 \\right\\rangle}^{3} + 3.21171768707483 {\\left\\langle x - 10.0 \\right\\rangle}^{2} + 0.126984126984127 {\\left\\langle x - 12.5 \\right\\rangle}^{3} - 0.571428571428572 {\\left\\langle x - 13.5 \\right\\rangle}^{2} + 0.0765331632653061 {\\left\\langle x - 20.0 \\right\\rangle}^{2}$"
      ],
      "text/plain": [
       "C1 - 5.27574829931972*SingularityFunction(x, 0, 1) + 1.09270153061224*SingularityFunction(x, 0, 2) - 0.126984126984127*SingularityFunction(x, 2.5, 3) + 3.21171768707483*SingularityFunction(x, 10.0, 2) + 0.126984126984127*SingularityFunction(x, 12.5, 3) - 0.571428571428572*SingularityFunction(x, 13.5, 2) + 0.0765331632653061*SingularityFunction(x, 20.0, 2)"
      ]
     },
     "execution_count": 90,
     "metadata": {},
     "output_type": "execute_result"
    }
   ],
   "source": [
    "x = sympy.symbols(\"x\")\n",
    "\n",
    "C1 = sympy.symbols(\"C1\")\n",
    "C2 = sympy.symbols(\"C2\")\n",
    "\n",
    "integrated_slp = sympy.integrate(moment_eqn, x)/(E*I) + C1\n",
    "\n",
    "integrated_slp \n"
   ]
  },
  {
   "cell_type": "code",
   "execution_count": 91,
   "metadata": {},
   "outputs": [],
   "source": [
    "integrated_defl = sympy.integrate(integrated_slp, x) + C2"
   ]
  },
  {
   "cell_type": "code",
   "execution_count": 92,
   "metadata": {},
   "outputs": [
    {
     "data": {
      "text/latex": [
       "$\\displaystyle C_{1} x - 2.63787414965986 {\\left\\langle x \\right\\rangle}^{2} + 0.364233843537415 {\\left\\langle x \\right\\rangle}^{3} - 0.0317460317460318 {\\left\\langle x - 2.5 \\right\\rangle}^{4} + 1.07057256235828 {\\left\\langle x - 10.0 \\right\\rangle}^{3} + 0.0317460317460318 {\\left\\langle x - 12.5 \\right\\rangle}^{4} - 0.19047619047619 {\\left\\langle x - 13.5 \\right\\rangle}^{3} + 0.0255110544217687 {\\left\\langle x - 20.0 \\right\\rangle}^{3}$"
      ],
      "text/plain": [
       "C1*x - 2.63787414965986*SingularityFunction(x, 0, 2) + 0.364233843537415*SingularityFunction(x, 0, 3) - 0.0317460317460318*SingularityFunction(x, 2.5, 4) + 1.07057256235828*SingularityFunction(x, 10.0, 3) + 0.0317460317460318*SingularityFunction(x, 12.5, 4) - 0.19047619047619*SingularityFunction(x, 13.5, 3) + 0.0255110544217687*SingularityFunction(x, 20.0, 3)"
      ]
     },
     "execution_count": 92,
     "metadata": {},
     "output_type": "execute_result"
    }
   ],
   "source": [
    "integrated_defl.subs(C2, 0.0)"
   ]
  },
  {
   "cell_type": "code",
   "execution_count": 75,
   "metadata": {},
   "outputs": [
    {
     "data": {
      "text/latex": [
       "$\\displaystyle C_{1}$"
      ],
      "text/plain": [
       "C1"
      ]
     },
     "execution_count": 75,
     "metadata": {},
     "output_type": "execute_result"
    }
   ],
   "source": [
    "integrated_slp.subs(x, 0.0)"
   ]
  },
  {
   "cell_type": "code",
   "execution_count": 93,
   "metadata": {},
   "outputs": [],
   "source": [
    "\n",
    "integrated_defl = integrated_defl.subs(C1, 0.0)\n",
    "integrated_defl = integrated_defl.subs(C2, 0.0)"
   ]
  },
  {
   "cell_type": "code",
   "execution_count": 94,
   "metadata": {},
   "outputs": [
    {
     "data": {
      "text/latex": [
       "$\\displaystyle - 2.63787414965986 {\\left\\langle x \\right\\rangle}^{2} + 0.364233843537415 {\\left\\langle x \\right\\rangle}^{3} - 0.0317460317460318 {\\left\\langle x - 2.5 \\right\\rangle}^{4} + 1.07057256235828 {\\left\\langle x - 10.0 \\right\\rangle}^{3} + 0.0317460317460318 {\\left\\langle x - 12.5 \\right\\rangle}^{4} - 0.19047619047619 {\\left\\langle x - 13.5 \\right\\rangle}^{3} + 0.0255110544217687 {\\left\\langle x - 20.0 \\right\\rangle}^{3}$"
      ],
      "text/plain": [
       "-2.63787414965986*SingularityFunction(x, 0, 2) + 0.364233843537415*SingularityFunction(x, 0, 3) - 0.0317460317460318*SingularityFunction(x, 2.5, 4) + 1.07057256235828*SingularityFunction(x, 10.0, 3) + 0.0317460317460318*SingularityFunction(x, 12.5, 4) - 0.19047619047619*SingularityFunction(x, 13.5, 3) + 0.0255110544217687*SingularityFunction(x, 20.0, 3)"
      ]
     },
     "execution_count": 94,
     "metadata": {},
     "output_type": "execute_result"
    }
   ],
   "source": [
    "integrated_defl"
   ]
  },
  {
   "cell_type": "code",
   "execution_count": 101,
   "metadata": {},
   "outputs": [],
   "source": [
    "ax_x = list(np.linspace(0, 20.0, 100))\n",
    "x = sympy.symbols(\"x\")\n",
    "defl_val = []\n",
    "for i in ax_x:\n",
    "    defl_val.append(integrated_defl.subs(x, i))"
   ]
  },
  {
   "cell_type": "code",
   "execution_count": 103,
   "metadata": {},
   "outputs": [
    {
     "data": {
      "text/plain": [
       "[<matplotlib.lines.Line2D at 0x7fb13ffbfd90>]"
      ]
     },
     "execution_count": 103,
     "metadata": {},
     "output_type": "execute_result"
    },
    {
     "data": {
      "image/png": "[encoded data removed]",
      "text/plain": [
       "<Figure size 432x288 with 1 Axes>"
      ]
     },
     "metadata": {
      "needs_background": "light"
     },
     "output_type": "display_data"
    }
   ],
   "source": [
    "plt.plot(ax_x, defl_val)"
   ]
  },
  {
   "cell_type": "code",
   "execution_count": 150,
   "metadata": {},
   "outputs": [
    {
     "data": {
      "image/png": "[encoded data removed]",
      "text/plain": [
       "<Figure size 432x288 with 1 Axes>"
      ]
     },
     "metadata": {
      "needs_background": "light"
     },
     "output_type": "display_data"
    },
    {
     "data": {
      "image/png": "[encoded data removed]",
      "text/plain": [
       "<Figure size 432x288 with 1 Axes>"
      ]
     },
     "metadata": {
      "needs_background": "light"
     },
     "output_type": "display_data"
    },
    {
     "data": {
      "image/png": "[encoded data removed]",
      "text/plain": [
       "<Figure size 432x288 with 1 Axes>"
      ]
     },
     "metadata": {
      "needs_background": "light"
     },
     "output_type": "display_data"
    }
   ],
   "source": [
    "L = 20.0\n",
    "E = 25000\n",
    "I = 0.000525\n",
    "\n",
    "## Continuous Beam ##\n",
    "cont_beam = Beam(L, E,I)\n",
    "left_sprt = \"Free\"\n",
    "right_sprt = \"Free\"\n",
    "\n",
    "num_spans = 4\n",
    "num_sprts = num_spans + 1\n",
    "sprt_spacing = L/num_spans\n",
    "\n",
    "sprt_locations = list(np.linspace(0, L, num_sprts))\n",
    "\n",
    "beam_viz = Beam(L,E,I)\n",
    "\n",
    "#beam_viz.apply_support(0, \"pin\")\n",
    "\n",
    "\n",
    "for loc in sprt_locations[1:-1]:\n",
    "    beam_viz.apply_support(loc, \"roller\")\n",
    "\n",
    "#beam_viz.apply_support(L, \"pin\")\n",
    "\n",
    "#cont_pen = beam_viz.draw()\n",
    "#cont_pen.show()\n",
    "beam_sprt = beam_viz.applied_loads\n",
    "\n",
    "sprt_symbs = []\n",
    "sprt_order = []\n",
    "sprt_start_loc = []\n",
    "\n",
    "for spr in beam_sprt:\n",
    "    sprt_symbs.append(spr[0])\n",
    "    sprt_order.append(spr[2])\n",
    "    sprt_start_loc.append(spr[1])\n",
    "\n",
    "for i in range(len(sprt_order)):\n",
    "    if sprt_order[i] == -1:\n",
    "        cont_beam.apply_load(sprt_symbs[i], sprt_start_loc[i], -1)\n",
    "        cont_beam.bc_deflection.append((sprt_start_loc[i], 0))\n",
    "    elif sprt_order[i] == -2:\n",
    "        cont_beam.apply_load(sprt_symbs[i], sprt_start_loc[i], -2)\n",
    "        cont_beam.bc_slope.append((sprt_start_loc[i], 0))\n",
    "\n",
    "\n",
    "cont_beam.apply_load(1, 2.5, 0, 12.5)\n",
    "#cont_beam.apply_load(15, 14, -1)\n",
    "\n",
    "_pen = cont_beam.draw()\n",
    "_pen.show()\n",
    "\n",
    "cont_beam.solve_for_reaction_loads(sprt_symbs[0], sprt_symbs[1], sprt_symbs[2])\n",
    "\n",
    "cont_beam.reaction_loads\n",
    "cont_beam.plot_shear_force()\n",
    "cont_beam.plot_bending_moment()\n",
    "#cont_beam.plot_slope()\n",
    "\n",
    "shear_eqn = cont_beam.shear_force()\n",
    "moment_eqn = cont_beam.bending_moment()\n",
    "mmt_eq = cont_beam.bending_moment()"
   ]
  },
  {
   "cell_type": "code",
   "execution_count": 154,
   "metadata": {},
   "outputs": [
    {
     "data": {
      "text/plain": [
       "[(R_5.00000000000000, 5.00000000000000, -1, None),\n",
       " (R_10.0000000000000, 10.0000000000000, -1, None),\n",
       " (R_15.0000000000000, 15.0000000000000, -1, None),\n",
       " (1, 2.50000000000000, 0, 12.5)]"
      ]
     },
     "execution_count": 154,
     "metadata": {},
     "output_type": "execute_result"
    }
   ],
   "source": [
    "cont_beam.applied_loads"
   ]
  },
  {
   "cell_type": "code",
   "execution_count": 151,
   "metadata": {},
   "outputs": [
    {
     "data": {
      "text/latex": [
       "$\\displaystyle C_{1} - 0.0126984126984127 {\\left\\langle x - 2.5 \\right\\rangle}^{3} + 0.201636904761905 {\\left\\langle x - 5.0 \\right\\rangle}^{2} + 0.168154761904762 {\\left\\langle x - 10.0 \\right\\rangle}^{2} + 0.0126984126984127 {\\left\\langle x - 12.5 \\right\\rangle}^{3} + 0.0111607142857142 {\\left\\langle x - 15.0 \\right\\rangle}^{2}$"
      ],
      "text/plain": [
       "C1 - 0.0126984126984127*SingularityFunction(x, 2.5, 3) + 0.201636904761905*SingularityFunction(x, 5.0, 2) + 0.168154761904762*SingularityFunction(x, 10.0, 2) + 0.0126984126984127*SingularityFunction(x, 12.5, 3) + 0.0111607142857142*SingularityFunction(x, 15.0, 2)"
      ]
     },
     "execution_count": 151,
     "metadata": {},
     "output_type": "execute_result"
    }
   ],
   "source": [
    "x = sympy.symbols(\"x\")\n",
    "\n",
    "C1 = sympy.symbols(\"C1\")\n",
    "C2 = sympy.symbols(\"C2\")\n",
    "\n",
    "integrated_slope = sympy.integrate(moment_eqn, x)/(E*I) + C1\n",
    "\n",
    "integrated_slope"
   ]
  },
  {
   "cell_type": "code",
   "execution_count": 144,
   "metadata": {},
   "outputs": [],
   "source": [
    "integrated_defln = sympy.integrate(integrated_slope, x) + C2"
   ]
  },
  {
   "cell_type": "code",
   "execution_count": 158,
   "metadata": {},
   "outputs": [
    {
     "data": {
      "text/latex": [
       "$\\displaystyle C_{1} - 0.316220238095239$"
      ],
      "text/plain": [
       "C1 - 0.316220238095239"
      ]
     },
     "execution_count": 158,
     "metadata": {},
     "output_type": "execute_result"
    }
   ],
   "source": [
    "integrated_slope.subs(x, 10)"
   ]
  },
  {
   "cell_type": "code",
   "execution_count": 163,
   "metadata": {},
   "outputs": [
    {
     "data": {
      "text/latex": [
       "$\\displaystyle 15.0 C_{1} + C_{2} - 5.95238095238096$"
      ],
      "text/plain": [
       "15.0*C1 + C2 - 5.95238095238096"
      ]
     },
     "execution_count": 163,
     "metadata": {},
     "output_type": "execute_result"
    }
   ],
   "source": [
    "integrated_defln.subs(x, 15.0)"
   ]
  },
  {
   "cell_type": "code",
   "execution_count": 137,
   "metadata": {},
   "outputs": [],
   "source": [
    "integrated_defln = integrated_defln.subs(C2, 0.0)"
   ]
  },
  {
   "cell_type": "code",
   "execution_count": 105,
   "metadata": {},
   "outputs": [
    {
     "data": {
      "text/latex": [
       "$\\displaystyle 15.0 C_{1} + 8.35476190476193$"
      ],
      "text/plain": [
       "15.0*C1 + 8.35476190476193"
      ]
     },
     "execution_count": 105,
     "metadata": {},
     "output_type": "execute_result"
    }
   ],
   "source": [
    "integrated_defln.subs(x, 15.0) "
   ]
  },
  {
   "cell_type": "code",
   "execution_count": 138,
   "metadata": {},
   "outputs": [],
   "source": [
    "integrated_defln = integrated_defln.subs(C1, -0.682043650793648)\n"
   ]
  },
  {
   "cell_type": "code",
   "execution_count": 139,
   "metadata": {},
   "outputs": [],
   "source": [
    "ax_x = list(np.linspace(0, L, 100))\n",
    "x = sympy.symbols(\"x\")\n",
    "defl_valu = []\n",
    "for i in ax_x:\n",
    "    defl_valu.append(integrated_defln.subs(x, i))"
   ]
  },
  {
   "cell_type": "code",
   "execution_count": 140,
   "metadata": {},
   "outputs": [
    {
     "data": {
      "text/plain": [
       "[<matplotlib.lines.Line2D at 0x7f39d8641c40>]"
      ]
     },
     "execution_count": 140,
     "metadata": {},
     "output_type": "execute_result"
    },
    {
     "data": {
      "image/png": "[encoded data removed]",
      "text/plain": [
       "<Figure size 432x288 with 1 Axes>"
      ]
     },
     "metadata": {
      "needs_background": "light"
     },
     "output_type": "display_data"
    }
   ],
   "source": [
    "plt.plot(ax_x, defl_valu)"
   ]
  },
  {
   "cell_type": "code",
   "execution_count": null,
   "metadata": {},
   "outputs": [],
   "source": []
  }
 ],
 "metadata": {
  "interpreter": {
   "hash": "c316b23d48cd6ef19b0d13ade5694c66e423459663ac5f1ebe89faa22bdd94d8"
  },
  "kernelspec": {
   "display_name": "Python 3.9.12 ('streamlit-env')",
   "language": "python",
   "name": "python3"
  },
  "language_info": {
   "codemirror_mode": {
    "name": "ipython",
    "version": 3
   },
   "file_extension": ".py",
   "mimetype": "text/x-python",
   "name": "python",
   "nbconvert_exporter": "python",
   "pygments_lexer": "ipython3",
   "version": "3.9.12"
  },
  "orig_nbformat": 4
 },
 "nbformat": 4,
 "nbformat_minor": 2
}
