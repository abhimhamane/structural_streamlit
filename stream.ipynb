{
 "cells": [
  {
   "cell_type": "code",
   "execution_count": 1,
   "metadata": {},
   "outputs": [
    {
     "name": "stderr",
     "output_type": "stream",
     "text": [
      "2022-06-19 22:30:50.179 INFO    numexpr.utils: NumExpr defaulting to 8 threads.\n",
      "2022-06-19 22:30:52.863 \n",
      "  \u001b[33m\u001b[1mWarning:\u001b[0m to view this Streamlit app on a browser, run it with the following\n",
      "  command:\n",
      "\n",
      "    streamlit run /home/abhimhamane/anaconda3/envs/streamlit-env/lib/python3.9/site-packages/ipykernel_launcher.py [ARGUMENTS]\n"
     ]
    }
   ],
   "source": [
    "import re\n",
    "import streamlit as st\n",
    "from sympy.physics.continuum_mechanics import Beam\n",
    "import sympy\n",
    "from sympy import SingularityFunction\n",
    "from sympy.plotting import plot\n",
    "import matplotlib.pyplot as plt\n",
    "\n",
    "import numpy as np\n",
    "\n",
    "import pandas as pd\n",
    "\n",
    "st.write(\"\"\"\n",
    "# Simple Beam Analysis\n",
    "\n",
    "\"\"\")\n",
    "\n",
    "st.sidebar.header('User Input Parameters')\n",
    "\n",
    "def user_input_features(): \n",
    "    # Beam Length in Meters\n",
    "    beam_length = st.sidebar.slider('Beam Length', 5.0, 25.0, 10.0, step=2.5)\n",
    "    # Start Supports\n",
    "    start_Support = st.sidebar.selectbox('Start Support',('Fix', 'Pin', 'Roller'))\n",
    "    end_Support = st.sidebar.selectbox('End Support',('Fix', 'Pin'))\n",
    "\n",
    "    #Point Load in kN\n",
    "    point_load = st.sidebar.slider('Point Load Magnitude', 0.0, 25.0, 10.0, step=5.0)\n",
    "\n",
    "    point_load_loc = st.sidebar.slider('Point Load Loc:', 0.0, beam_length, 3.0, step=2.5)\n",
    "    \n",
    "    # Udl load is in kN/m\n",
    "    udl_load = st.sidebar.slider('UDL Magnitude', 0.0, 25.0, 5.0 ,step = 5.0)\n",
    "\n",
    "    udl_start_loc = st.sidebar.slider('UDL Start Loc', 0.0, beam_length - 5.0, 0.0, step=2.5)\n",
    "    udl_end_loc = st.sidebar.slider('UDL End Loc', udl_start_loc+2.5, beam_length, beam_length, step=2.5)\n",
    "\n",
    "    #Point Load in kN-m\n",
    "    moment_load = st.sidebar.slider('Moment Magnitude', -20.0, 20.0, 0.0, step=5.0)\n",
    "\n",
    "    moment_loc = st.sidebar.slider('Moment Loc:', 0.0, beam_length, 4.0, step=2.5)\n",
    "\n",
    "    \n",
    "    data = {'beam_length': beam_length,\n",
    "            'start_Support': start_Support,\n",
    "            'end_Support': end_Support,\n",
    "            'E': 25000.0,\n",
    "            'Izz': 0.0005}\n",
    "\n",
    "    features = pd.DataFrame(data, index=[0])\n",
    "    beam_data = [beam_length, start_Support, end_Support]\n",
    "\n",
    "    point_data = [point_load, point_load_loc]\n",
    "    \n",
    "    moment_data = [moment_load, moment_loc]\n",
    "    \n",
    "    UDL_data = [udl_load, udl_start_loc, udl_end_loc]\n",
    "\n",
    "    return features, beam_data, point_data, moment_data, UDL_data\n",
    "\n",
    "df, beam_data, point_data, moment_data, UDL_data = user_input_features()\n",
    "\n",
    "st.subheader('User Input parameters')\n",
    "st.write(df)\n",
    "\n",
    "# Logic\n",
    "E = 25000\n",
    "I = 0.0005\n",
    "\n",
    "#print(beam_data, point_data)\n",
    "\n",
    "L = beam_data[0]\n",
    "lt_sprt = beam_data[1]\n",
    "rt_sprt = beam_data[2]\n",
    "\n",
    "beam_inst = Beam(L, E, I)\n",
    "\n",
    "def sympy_variable(x:str):\n",
    "        return sympy.symbols(x)\n",
    "\n",
    "def apply_end_support_loads(beam_inst, L):\n",
    "    sympy_symbols = []\n",
    "    beam_inst.bc_deflection = []\n",
    "    beam_inst.bc_slope = []\n",
    "    if lt_sprt == \"Fix\":\n",
    "        R_0 = sympy_variable(\"R_0\")\n",
    "        M_0 = sympy_variable(\"M_0\")\n",
    "        sympy_symbols.append(R_0)\n",
    "        sympy_symbols.append(M_0)\n",
    "        beam_inst.apply_load(R_0, 0, -1)\n",
    "        beam_inst.apply_load(M_0, 0, -2)\n",
    "        beam_inst.bc_deflection.append((0,0))\n",
    "        beam_inst.bc_slope.append((0,0))\n",
    "    else:\n",
    "        R_0 = sympy_variable(\"R_0\")\n",
    "        sympy_symbols.append(R_0)\n",
    "        beam_inst.apply_load(R_0, 0, -1)\n",
    "        beam_inst.bc_deflection.append((0,0))\n",
    "\n",
    "    if rt_sprt == \"Fix\":\n",
    "        r_end = sympy_variable(\"R_\" + str(L))\n",
    "        m_end = sympy_variable(\"M_\" + str(L))\n",
    "        sympy_symbols.append(r_end)\n",
    "        sympy_symbols.append(m_end)\n",
    "        beam_inst.apply_load(r_end, L, -1)\n",
    "        beam_inst.apply_load(m_end, L, -2)\n",
    "        beam_inst.bc_deflection.append((L,0))\n",
    "        beam_inst.bc_slope.append((L,0))\n",
    "    else:\n",
    "        r_end = sympy_variable(\"R_\" + str(L))\n",
    "        sympy_symbols.append(r_end)\n",
    "        beam_inst.apply_load(r_end, L, -1)\n",
    "        beam_inst.bc_deflection.append((L,0))\n",
    "    \n",
    "    return sympy_symbols\n",
    "\n",
    "reaction_symbols = apply_end_support_loads(beam_inst ,L)\n",
    "\n",
    "\n",
    "beam_inst.apply_load(point_data[0], point_data[1], -1)\n",
    "beam_inst.apply_load(moment_data[0], moment_data[1], -2)\n",
    "beam_inst.apply_load(UDL_data[0], UDL_data[1], 0, end=UDL_data[2])\n",
    "\n",
    "\n",
    "if len(reaction_symbols) == 4:\n",
    "    beam_inst.solve_for_reaction_loads(reaction_symbols[0], reaction_symbols[1] ,reaction_symbols[2], reaction_symbols[3])\n",
    "elif len(reaction_symbols) == 3:\n",
    "    beam_inst.solve_for_reaction_loads(reaction_symbols[0], reaction_symbols[1] ,reaction_symbols[2])\n",
    "else:\n",
    "    beam_inst.solve_for_reaction_loads(reaction_symbols[0], reaction_symbols[1])\n",
    "\n",
    "\n"
   ]
  },
  {
   "cell_type": "code",
   "execution_count": 35,
   "metadata": {},
   "outputs": [],
   "source": [
    "#beam_inst.plot_slope()"
   ]
  },
  {
   "cell_type": "code",
   "execution_count": 2,
   "metadata": {},
   "outputs": [
    {
     "data": {
      "image/png": "[encoded data removed]",
      "text/plain": [
       "<Figure size 432x288 with 1 Axes>"
      ]
     },
     "metadata": {
      "needs_background": "light"
     },
     "output_type": "display_data"
    },
    {
     "data": {
      "image/png": "[encoded data removed]",
      "text/plain": [
       "<Figure size 432x288 with 1 Axes>"
      ]
     },
     "metadata": {
      "needs_background": "light"
     },
     "output_type": "display_data"
    },
    {
     "data": {
      "text/plain": [
       "<sympy.plotting.plot.Plot at 0x7f88b0a1f490>"
      ]
     },
     "execution_count": 2,
     "metadata": {},
     "output_type": "execute_result"
    }
   ],
   "source": [
    "##### Cantilever Beam\n",
    "L = 10.0\n",
    "E = 25000\n",
    "I = 0.000525\n",
    "\n",
    "b1 = Beam(L, E, I)\n",
    "\n",
    "R1 = sympy_variable(\"R_0\")\n",
    "\n",
    "M0 = sympy_variable(\"M_0\")\n",
    "\n",
    "r_end = sympy_variable(\"R_10\")\n",
    "\n",
    "\n",
    "b1.apply_load(R1, 0, -1)\n",
    "b1.apply_load(M0, 0, -2)\n",
    "b1.apply_load(r_end, L, -1)\n",
    "\n",
    "b1.apply_load(10.0, 2.5, -1)\n",
    "b1.apply_load(15.0, 3.0, 0, end=7)\n",
    "\n",
    "b1.bc_deflection.append((0,0))\n",
    "b1.bc_deflection.append((L, 0))\n",
    "b1.bc_slope.append((0,0))\n",
    "\n",
    "b1.solve_for_reaction_loads(R1 ,M0, r_end)\n",
    "b1.reaction_loads\n",
    "\n",
    "\n",
    "\n",
    "#b1.solve_for_reaction_loads(R1 ,M0, R2)\n",
    "#v= b1.plot_shear_force()\n",
    "sh_eq = b1.shear_force()\n",
    "bm_eqn = b1.bending_moment()\n",
    "#slp_eqn = b1.slope()\n",
    "#defl_eqn = b1.deflection()\n",
    "ax_x = np.arange(0, L, 0.05)\n",
    "#print(ax_x)\n",
    "x = sympy.symbols(\"x\")\n",
    "shear_y = []\n",
    "\n",
    "for i in ax_x:\n",
    "    shear_y.append(sh_eq.subs(x, i))\n",
    "\n",
    "b1.plot_shear_force()\n",
    "b1.plot_bending_moment()\n"
   ]
  },
  {
   "cell_type": "code",
   "execution_count": 35,
   "metadata": {},
   "outputs": [
    {
     "data": {
      "text/latex": [
       "$\\displaystyle R_{10}$"
      ],
      "text/plain": [
       "R_10"
      ]
     },
     "execution_count": 35,
     "metadata": {},
     "output_type": "execute_result"
    }
   ],
   "source": []
  },
  {
   "cell_type": "code",
   "execution_count": 25,
   "metadata": {},
   "outputs": [
    {
     "data": {
      "image/png": "[encoded data removed]",
      "text/plain": [
       "<Figure size 432x288 with 1 Axes>"
      ]
     },
     "metadata": {
      "needs_background": "light"
     },
     "output_type": "display_data"
    },
    {
     "data": {
      "image/png": "[encoded data removed]",
      "text/plain": [
       "<Figure size 432x288 with 1 Axes>"
      ]
     },
     "metadata": {
      "needs_background": "light"
     },
     "output_type": "display_data"
    },
    {
     "data": {
      "image/png": "[encoded data removed]",
      "text/plain": [
       "<Figure size 432x288 with 1 Axes>"
      ]
     },
     "metadata": {
      "needs_background": "light"
     },
     "output_type": "display_data"
    },
    {
     "data": {
      "image/png": "[encoded data removed]",
      "text/plain": [
       "<Figure size 432x288 with 1 Axes>"
      ]
     },
     "metadata": {
      "needs_background": "light"
     },
     "output_type": "display_data"
    },
    {
     "data": {
      "text/plain": [
       "<sympy.plotting.plot.Plot at 0x7f2578ec6100>"
      ]
     },
     "execution_count": 25,
     "metadata": {},
     "output_type": "execute_result"
    }
   ],
   "source": [
    "L = 20.0\n",
    "E = 25000\n",
    "I = 0.000525\n",
    "\n",
    "## Continuous Beam ##\n",
    "cont_beam = Beam(L, E,I)\n",
    "left_sprt = \"Fixed\"\n",
    "right_sprt = \"Roller\"\n",
    "\n",
    "num_spans = 2\n",
    "num_sprts = num_spans + 1\n",
    "sprt_spacing = L/num_spans\n",
    "\n",
    "sprt_locations = list(np.linspace(0, L, num_sprts))\n",
    "\n",
    "beam_viz = Beam(L,E,I)\n",
    "\n",
    "beam_viz.apply_support(0, \"fixed\")\n",
    "\n",
    "\n",
    "for loc in sprt_locations[1:-1]:\n",
    "    beam_viz.apply_support(loc, \"roller\")\n",
    "\n",
    "beam_viz.apply_support(L, \"roller\")\n",
    "\n",
    "#cont_pen = beam_viz.draw()\n",
    "#cont_pen.show()\n",
    "beam_sprt = beam_viz.applied_loads\n",
    "\n",
    "sprt_symbs = []\n",
    "sprt_order = []\n",
    "sprt_start_loc = []\n",
    "\n",
    "for spr in beam_sprt:\n",
    "    sprt_symbs.append(spr[0])\n",
    "    sprt_order.append(spr[2])\n",
    "    sprt_start_loc.append(spr[1])\n",
    "\n",
    "for i in range(len(sprt_order)):\n",
    "    if sprt_order[i] == -1:\n",
    "        cont_beam.apply_load(sprt_symbs[i], sprt_start_loc[i], -1)\n",
    "        cont_beam.bc_deflection.append((sprt_start_loc[i], 0))\n",
    "    elif sprt_order[i] == -2:\n",
    "        cont_beam.apply_load(sprt_symbs[i], sprt_start_loc[i], -2)\n",
    "        cont_beam.bc_slope.append((sprt_start_loc[i], 0))\n",
    "\n",
    "\n",
    "cont_beam.apply_load(10, 2.5, 0, 12.5)\n",
    "cont_beam.apply_load(15, 13.5, -1)\n",
    "\n",
    "_pen = cont_beam.draw()\n",
    "_pen.show()\n",
    "\n",
    "cont_beam.solve_for_reaction_loads(sprt_symbs[0], sprt_symbs[1], sprt_symbs[2], sprt_symbs[3])\n",
    "\n",
    "cont_beam.reaction_loads\n",
    "cont_beam.plot_shear_force()\n",
    "cont_beam.plot_bending_moment()\n",
    "cont_beam.plot_slope()\n",
    "#Deflection does not work"
   ]
  },
  {
   "cell_type": "code",
   "execution_count": 27,
   "metadata": {},
   "outputs": [
    {
     "ename": "IndexError",
     "evalue": "list index out of range",
     "output_type": "error",
     "traceback": [
      "\u001b[0;31m---------------------------------------------------------------------------\u001b[0m",
      "\u001b[0;31mIndexError\u001b[0m                                Traceback (most recent call last)",
      "\u001b[1;32m/media/abhimhamane/DATA/python_projects/structural_streamlit/stream.ipynb Cell 5'\u001b[0m in \u001b[0;36m<cell line: 1>\u001b[0;34m()\u001b[0m\n\u001b[0;32m----> <a href='vscode-notebook-cell:/media/abhimhamane/DATA/python_projects/structural_streamlit/stream.ipynb#ch0000004?line=0'>1</a>\u001b[0m cont_beam\u001b[39m.\u001b[39;49mdeflection()\n",
      "File \u001b[0;32m~/anaconda3/envs/streamlit-env/lib/python3.9/site-packages/sympy/physics/continuum_mechanics/beam.py:1258\u001b[0m, in \u001b[0;36mBeam.deflection\u001b[0;34m(self)\u001b[0m\n\u001b[1;32m   1255\u001b[0m     bc_eqs\u001b[39m.\u001b[39mappend(eqs)\n\u001b[1;32m   1257\u001b[0m constants \u001b[39m=\u001b[39m \u001b[39mlist\u001b[39m(linsolve(bc_eqs, C4))\n\u001b[0;32m-> 1258\u001b[0m deflection_curve \u001b[39m=\u001b[39m deflection_curve\u001b[39m.\u001b[39msubs({C4: constants[\u001b[39m0\u001b[39;49m][\u001b[39m0\u001b[39m]})\n\u001b[1;32m   1259\u001b[0m \u001b[39mreturn\u001b[39;00m deflection_curve\n",
      "\u001b[0;31mIndexError\u001b[0m: list index out of range"
     ]
    }
   ],
   "source": []
  },
  {
   "cell_type": "code",
   "execution_count": 58,
   "metadata": {},
   "outputs": [],
   "source": [
    "for  b1 in beam_sprt:\n",
    "    sprt_symbs.append(b1[0])"
   ]
  },
  {
   "cell_type": "code",
   "execution_count": 74,
   "metadata": {},
   "outputs": [
    {
     "data": {
      "text/plain": [
       "[R_0,\n",
       " M_0,\n",
       " R_5.00000000000000,\n",
       " R_10.0000000000000,\n",
       " R_15.0000000000000,\n",
       " R_20.0000000000000]"
      ]
     },
     "execution_count": 74,
     "metadata": {},
     "output_type": "execute_result"
    }
   ],
   "source": [
    "sprt_symbs"
   ]
  },
  {
   "cell_type": "code",
   "execution_count": null,
   "metadata": {},
   "outputs": [],
   "source": []
  },
  {
   "cell_type": "code",
   "execution_count": null,
   "metadata": {},
   "outputs": [],
   "source": []
  }
 ],
 "metadata": {
  "interpreter": {
   "hash": "c316b23d48cd6ef19b0d13ade5694c66e423459663ac5f1ebe89faa22bdd94d8"
  },
  "kernelspec": {
   "display_name": "Python 3.9.12 ('streamlit-env')",
   "language": "python",
   "name": "python3"
  },
  "language_info": {
   "codemirror_mode": {
    "name": "ipython",
    "version": 3
   },
   "file_extension": ".py",
   "mimetype": "text/x-python",
   "name": "python",
   "nbconvert_exporter": "python",
   "pygments_lexer": "ipython3",
   "version": "3.9.12"
  },
  "orig_nbformat": 4
 },
 "nbformat": 4,
 "nbformat_minor": 2
}
