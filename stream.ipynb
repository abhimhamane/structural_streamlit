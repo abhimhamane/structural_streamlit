{
 "cells": [
  {
   "cell_type": "code",
   "execution_count": 2,
   "metadata": {},
   "outputs": [
    {
     "name": "stderr",
     "output_type": "stream",
     "text": [
      "2022-06-15 13:11:58.602 INFO    numexpr.utils: NumExpr defaulting to 8 threads.\n",
      "2022-06-15 13:12:03.390 \n",
      "  \u001b[33m\u001b[1mWarning:\u001b[0m to view this Streamlit app on a browser, run it with the following\n",
      "  command:\n",
      "\n",
      "    streamlit run /home/abhimhamane/anaconda3/envs/streamlit-env/lib/python3.9/site-packages/ipykernel_launcher.py [ARGUMENTS]\n"
     ]
    },
    {
     "ename": "IndexError",
     "evalue": "list index out of range",
     "output_type": "error",
     "traceback": [
      "\u001b[0;31m---------------------------------------------------------------------------\u001b[0m",
      "\u001b[0;31mIndexError\u001b[0m                                Traceback (most recent call last)",
      "\u001b[1;32m/media/abhimhamane/DATA/python_projects/structural_streamlit/stream.ipynb Cell 1'\u001b[0m in \u001b[0;36m<cell line: 141>\u001b[0;34m()\u001b[0m\n\u001b[1;32m    <a href='vscode-notebook-cell:/media/abhimhamane/DATA/python_projects/structural_streamlit/stream.ipynb#ch0000000?line=138'>139</a>\u001b[0m bending_moment_eq \u001b[39m=\u001b[39m beam_inst\u001b[39m.\u001b[39mbending_moment()\n\u001b[1;32m    <a href='vscode-notebook-cell:/media/abhimhamane/DATA/python_projects/structural_streamlit/stream.ipynb#ch0000000?line=139'>140</a>\u001b[0m sh_eq \u001b[39m=\u001b[39m beam_inst\u001b[39m.\u001b[39mshear_force()\n\u001b[0;32m--> <a href='vscode-notebook-cell:/media/abhimhamane/DATA/python_projects/structural_streamlit/stream.ipynb#ch0000000?line=140'>141</a>\u001b[0m slp \u001b[39m=\u001b[39m beam_inst\u001b[39m.\u001b[39;49mdeflection()\n\u001b[1;32m    <a href='vscode-notebook-cell:/media/abhimhamane/DATA/python_projects/structural_streamlit/stream.ipynb#ch0000000?line=141'>142</a>\u001b[0m ax_x \u001b[39m=\u001b[39m np\u001b[39m.\u001b[39marange(\u001b[39m0\u001b[39m, L\u001b[39m+\u001b[39m\u001b[39m0.05\u001b[39m, \u001b[39m0.05\u001b[39m)\n\u001b[1;32m    <a href='vscode-notebook-cell:/media/abhimhamane/DATA/python_projects/structural_streamlit/stream.ipynb#ch0000000?line=142'>143</a>\u001b[0m \u001b[39m#print(ax_x)\u001b[39;00m\n",
      "File \u001b[0;32m~/anaconda3/envs/streamlit-env/lib/python3.9/site-packages/sympy/physics/continuum_mechanics/beam.py:1250\u001b[0m, in \u001b[0;36mBeam.deflection\u001b[0;34m(self)\u001b[0m\n\u001b[1;32m   1247\u001b[0m     \u001b[39mreturn\u001b[39;00m deflection\n\u001b[1;32m   1249\u001b[0m C4 \u001b[39m=\u001b[39m Symbol(\u001b[39m'\u001b[39m\u001b[39mC4\u001b[39m\u001b[39m'\u001b[39m)\n\u001b[0;32m-> 1250\u001b[0m deflection_curve \u001b[39m=\u001b[39m integrate(\u001b[39mself\u001b[39;49m\u001b[39m.\u001b[39;49mslope(), x) \u001b[39m+\u001b[39m C4\n\u001b[1;32m   1252\u001b[0m bc_eqs \u001b[39m=\u001b[39m []\n\u001b[1;32m   1253\u001b[0m \u001b[39mfor\u001b[39;00m position, value \u001b[39min\u001b[39;00m \u001b[39mself\u001b[39m\u001b[39m.\u001b[39m_boundary_conditions[\u001b[39m'\u001b[39m\u001b[39mdeflection\u001b[39m\u001b[39m'\u001b[39m]:\n",
      "File \u001b[0;32m~/anaconda3/envs/streamlit-env/lib/python3.9/site-packages/sympy/physics/continuum_mechanics/beam.py:1127\u001b[0m, in \u001b[0;36mBeam.slope\u001b[0;34m(self)\u001b[0m\n\u001b[1;32m   1125\u001b[0m     bc_eqs\u001b[39m.\u001b[39mappend(eqs)\n\u001b[1;32m   1126\u001b[0m constants \u001b[39m=\u001b[39m \u001b[39mlist\u001b[39m(linsolve(bc_eqs, C3))\n\u001b[0;32m-> 1127\u001b[0m slope_curve \u001b[39m=\u001b[39m slope_curve\u001b[39m.\u001b[39msubs({C3: constants[\u001b[39m0\u001b[39;49m][\u001b[39m0\u001b[39m]})\n\u001b[1;32m   1128\u001b[0m \u001b[39mreturn\u001b[39;00m slope_curve\n",
      "\u001b[0;31mIndexError\u001b[0m: list index out of range"
     ]
    }
   ],
   "source": [
    "import re\n",
    "import streamlit as st\n",
    "from sympy.physics.continuum_mechanics import Beam\n",
    "import sympy\n",
    "from sympy import SingularityFunction\n",
    "from sympy.plotting import plot\n",
    "import matplotlib.pyplot as plt\n",
    "\n",
    "import numpy as np\n",
    "\n",
    "import pandas as pd\n",
    "\n",
    "st.write(\"\"\"\n",
    "# Simple Beam Analysis\n",
    "\n",
    "\"\"\")\n",
    "\n",
    "st.sidebar.header('User Input Parameters')\n",
    "\n",
    "def user_input_features(): \n",
    "    # Beam Length in Meters\n",
    "    beam_length = st.sidebar.slider('Beam Length', 5.0, 25.0, 10.0, step=2.5)\n",
    "    # Start Supports\n",
    "    start_Support = st.sidebar.selectbox('Start Support',('Fix', 'Pin', 'Roller'))\n",
    "    end_Support = st.sidebar.selectbox('End Support',('Fix', 'Pin'))\n",
    "\n",
    "    #Point Load in kN\n",
    "    point_load = st.sidebar.slider('Point Load Magnitude', 0.0, 25.0, 10.0, step=5.0)\n",
    "\n",
    "    point_load_loc = st.sidebar.slider('Point Load Loc:', 0.0, beam_length, 3.0, step=2.5)\n",
    "    \n",
    "    # Udl load is in kN/m\n",
    "    udl_load = st.sidebar.slider('UDL Magnitude', 0.0, 25.0, 5.0 ,step = 5.0)\n",
    "\n",
    "    udl_start_loc = st.sidebar.slider('UDL Start Loc', 0.0, beam_length - 5.0, 0.0, step=2.5)\n",
    "    udl_end_loc = st.sidebar.slider('UDL End Loc', udl_start_loc+2.5, beam_length, beam_length, step=2.5)\n",
    "\n",
    "    #Point Load in kN-m\n",
    "    moment_load = st.sidebar.slider('Moment Magnitude', -20.0, 20.0, 0.0, step=5.0)\n",
    "\n",
    "    moment_loc = st.sidebar.slider('Moment Loc:', 0.0, beam_length, 4.0, step=2.5)\n",
    "\n",
    "    \n",
    "    data = {'beam_length': beam_length,\n",
    "            'start_Support': start_Support,\n",
    "            'end_Support': end_Support,\n",
    "            'E': 25000.0,\n",
    "            'Izz': 0.0005}\n",
    "\n",
    "    features = pd.DataFrame(data, index=[0])\n",
    "    beam_data = [beam_length, start_Support, end_Support]\n",
    "\n",
    "    point_data = [point_load, point_load_loc]\n",
    "    \n",
    "    moment_data = [moment_load, moment_loc]\n",
    "    \n",
    "    UDL_data = [udl_load, udl_start_loc, udl_end_loc]\n",
    "\n",
    "    return features, beam_data, point_data, moment_data, UDL_data\n",
    "\n",
    "df, beam_data, point_data, moment_data, UDL_data = user_input_features()\n",
    "\n",
    "st.subheader('User Input parameters')\n",
    "st.write(df)\n",
    "\n",
    "# Logic\n",
    "E = 25000\n",
    "I = 0.0005\n",
    "\n",
    "#print(beam_data, point_data)\n",
    "\n",
    "L = beam_data[0]\n",
    "lt_sprt = beam_data[1]\n",
    "rt_sprt = beam_data[2]\n",
    "\n",
    "beam_inst = Beam(L, E, I)\n",
    "\n",
    "def sympy_variable(x:str):\n",
    "        return sympy.symbols(x)\n",
    "\n",
    "def apply_end_support_loads(beam_inst, L):\n",
    "    sympy_symbols = []\n",
    "    beam_inst.bc_deflection = []\n",
    "    beam_inst.bc_slope = []\n",
    "    if lt_sprt == \"Fix\":\n",
    "        R_0 = sympy_variable(\"R_0\")\n",
    "        M_0 = sympy_variable(\"M_0\")\n",
    "        sympy_symbols.append(R_0)\n",
    "        sympy_symbols.append(M_0)\n",
    "        beam_inst.apply_load(R_0, 0, -1)\n",
    "        beam_inst.apply_load(M_0, 0, -2)\n",
    "        beam_inst.bc_deflection.append((0,0))\n",
    "        beam_inst.bc_slope.append((0,0))\n",
    "    else:\n",
    "        R_0 = sympy_variable(\"R_0\")\n",
    "        sympy_symbols.append(R_0)\n",
    "        beam_inst.apply_load(R_0, 0, -1)\n",
    "        beam_inst.bc_deflection.append((0,0))\n",
    "\n",
    "    if rt_sprt == \"Fix\":\n",
    "        r_end = sympy_variable(\"R_\" + str(L))\n",
    "        m_end = sympy_variable(\"M_\" + str(L))\n",
    "        sympy_symbols.append(r_end)\n",
    "        sympy_symbols.append(m_end)\n",
    "        beam_inst.apply_load(r_end, L, -1)\n",
    "        beam_inst.apply_load(m_end, L, -2)\n",
    "        beam_inst.bc_deflection.append((L,0))\n",
    "        beam_inst.bc_slope.append((L,0))\n",
    "    else:\n",
    "        r_end = sympy_variable(\"R_\" + str(L))\n",
    "        sympy_symbols.append(r_end)\n",
    "        beam_inst.apply_load(r_end, L, -1)\n",
    "        beam_inst.bc_deflection.append((L,0))\n",
    "    \n",
    "    return sympy_symbols\n",
    "\n",
    "reaction_symbols = apply_end_support_loads(beam_inst ,L)\n",
    "\n",
    "\n",
    "beam_inst.apply_load(point_data[0], point_data[1], -1)\n",
    "beam_inst.apply_load(moment_data[0], moment_data[1], -2)\n",
    "beam_inst.apply_load(UDL_data[0], UDL_data[1], 0, end=UDL_data[2])\n",
    "\n",
    "#beam_inst.load\n",
    "draw_pen = beam_inst.draw(pictorial=True)\n",
    "#draw_pen.save(\"default.png\")\n",
    "\n",
    "#print(reaction_symbols[0] == sympy_variable(\"R_0\"))\n",
    "\n",
    "\n",
    "if len(reaction_symbols) == 4:\n",
    "    beam_inst.solve_for_reaction_loads(reaction_symbols[0], reaction_symbols[1] ,reaction_symbols[2], reaction_symbols[3])\n",
    "elif len(reaction_symbols) == 3:\n",
    "    beam_inst.solve_for_reaction_loads(reaction_symbols[0], reaction_symbols[1] ,reaction_symbols[2])\n",
    "else:\n",
    "    beam_inst.solve_for_reaction_loads(reaction_symbols[0], reaction_symbols[1])\n",
    "\n",
    "\n",
    "bending_moment_eq = beam_inst.bending_moment()\n",
    "sh_eq = beam_inst.shear_force()\n",
    "slp = beam_inst.deflection()\n",
    "ax_x = np.arange(0, L+0.05, 0.05)\n",
    "#print(ax_x)\n",
    "x = sympy.symbols(\"x\")\n",
    "moment_y = []\n",
    "for i in ax_x:\n",
    "    moment_y.append(bending_moment_eq.subs(x, i))\n",
    "\n",
    "\n",
    "\n",
    "bmd = plt.plot(ax_x, moment_y)\n"
   ]
  },
  {
   "cell_type": "code",
   "execution_count": 35,
   "metadata": {},
   "outputs": [],
   "source": [
    "#beam_inst.plot_slope()"
   ]
  },
  {
   "cell_type": "code",
   "execution_count": 63,
   "metadata": {},
   "outputs": [
    {
     "ename": "ValueError",
     "evalue": "Value of R_10.0 was not passed.",
     "output_type": "error",
     "traceback": [
      "\u001b[0;31m---------------------------------------------------------------------------\u001b[0m",
      "\u001b[0;31mValueError\u001b[0m                                Traceback (most recent call last)",
      "\u001b[1;32m/media/abhimhamane/DATA/python_projects/structural_streamlit/stream.ipynb Cell 3'\u001b[0m in \u001b[0;36m<cell line: 44>\u001b[0;34m()\u001b[0m\n\u001b[1;32m     <a href='vscode-notebook-cell:/media/abhimhamane/DATA/python_projects/structural_streamlit/stream.ipynb#ch0000002?line=39'>40</a>\u001b[0m \u001b[39mfor\u001b[39;00m i \u001b[39min\u001b[39;00m ax_x:\n\u001b[1;32m     <a href='vscode-notebook-cell:/media/abhimhamane/DATA/python_projects/structural_streamlit/stream.ipynb#ch0000002?line=40'>41</a>\u001b[0m     moment_y\u001b[39m.\u001b[39mappend(sh_eq\u001b[39m.\u001b[39msubs(x, i))\n\u001b[0;32m---> <a href='vscode-notebook-cell:/media/abhimhamane/DATA/python_projects/structural_streamlit/stream.ipynb#ch0000002?line=43'>44</a>\u001b[0m b1\u001b[39m.\u001b[39;49mplot_bending_moment()\n",
      "File \u001b[0;32m~/anaconda3/envs/streamlit-env/lib/python3.9/site-packages/sympy/physics/continuum_mechanics/beam.py:1462\u001b[0m, in \u001b[0;36mBeam.plot_bending_moment\u001b[0;34m(self, subs)\u001b[0m\n\u001b[1;32m   1460\u001b[0m         \u001b[39mcontinue\u001b[39;00m\n\u001b[1;32m   1461\u001b[0m     \u001b[39mif\u001b[39;00m sym \u001b[39mnot\u001b[39;00m \u001b[39min\u001b[39;00m subs:\n\u001b[0;32m-> 1462\u001b[0m         \u001b[39mraise\u001b[39;00m \u001b[39mValueError\u001b[39;00m(\u001b[39m'\u001b[39m\u001b[39mValue of \u001b[39m\u001b[39m%s\u001b[39;00m\u001b[39m was not passed.\u001b[39m\u001b[39m'\u001b[39m \u001b[39m%\u001b[39msym)\n\u001b[1;32m   1463\u001b[0m \u001b[39mif\u001b[39;00m \u001b[39mself\u001b[39m\u001b[39m.\u001b[39mlength \u001b[39min\u001b[39;00m subs:\n\u001b[1;32m   1464\u001b[0m     length \u001b[39m=\u001b[39m subs[\u001b[39mself\u001b[39m\u001b[39m.\u001b[39mlength]\n",
      "\u001b[0;31mValueError\u001b[0m: Value of R_10.0 was not passed."
     ]
    }
   ],
   "source": [
    "##### Cantilever Beam\n",
    "L = 10\n",
    "\n",
    "b1 = Beam(L, E, I)\n",
    "\n",
    "R1 = sympy_variable(\"R_0\")\n",
    "\n",
    "M0 = sympy_variable(\"M_0\")\n",
    "\n",
    "r_end = sympy_variable(\"R_10.0\")\n",
    "\n",
    "\n",
    "b1.apply_load(R1, 0, -1)\n",
    "b1.apply_load(M0, 0, -2)\n",
    "b1.apply_load(r_end, 10.0, -1)\n",
    "\n",
    "b1.apply_load(10.0, 2.5, -1)\n",
    "b1.apply_load(15.0, 3.0, 0, end=7)\n",
    "\n",
    "\n",
    "b1.solve_for_reaction_loads(R1 ,M0, r_end)\n",
    "b1.reaction_loads\n",
    "\n",
    "\n",
    "\n",
    "key = list(b1.reaction_loads.keys())\n",
    "vals = list(b1.reaction_loads.values())\n",
    "\n",
    "#b1.solve_for_reaction_loads(R1 ,M0, R2)\n",
    "#v= b1.plot_shear_force()\n",
    "sh_eq = b1.shear_force()\n",
    "bm_eqn = b1.bending_moment()\n",
    "slp_eqn = b1.slope()\n",
    "defl_eqn = b1.deflection()\n",
    "ax_x = np.arange(0, L, 0.05)\n",
    "#print(ax_x)\n",
    "x = sympy.symbols(\"x\")\n",
    "moment_y = []\n",
    "\n",
    "for i in ax_x:\n",
    "    moment_y.append(sh_eq.subs(x, i))\n",
    "\n",
    "\n",
    "b1.plot_bending_moment()\n",
    "#bmd = plt.plot(ax_x, moment_y)\n",
    "\n"
   ]
  },
  {
   "cell_type": "code",
   "execution_count": 50,
   "metadata": {},
   "outputs": [
    {
     "data": {
      "text/latex": [
       "$\\displaystyle - R_{10.0} {\\left\\langle x - 10.0 \\right\\rangle}^{0} - \\left(- R_{10.0} - 70\\right) {\\left\\langle x \\right\\rangle}^{0} - \\left(10 R_{10.0} + 325\\right) {\\left\\langle x \\right\\rangle}^{-1} - 10.0 {\\left\\langle x - 2.5 \\right\\rangle}^{0} - 15.0 {\\left\\langle x - 3.0 \\right\\rangle}^{1} + 15.0 {\\left\\langle x - 7 \\right\\rangle}^{1}$"
      ],
      "text/plain": [
       "-R_10.0*SingularityFunction(x, 10.0, 0) - (-R_10.0 - 70)*SingularityFunction(x, 0, 0) - (10*R_10.0 + 325)*SingularityFunction(x, 0, -1) - 10.0*SingularityFunction(x, 2.5, 0) - 15.0*SingularityFunction(x, 3.0, 1) + 15.0*SingularityFunction(x, 7, 1)"
      ]
     },
     "execution_count": 50,
     "metadata": {},
     "output_type": "execute_result"
    }
   ],
   "source": []
  },
  {
   "cell_type": "code",
   "execution_count": 57,
   "metadata": {},
   "outputs": [
    {
     "data": {
      "text/latex": [
       "$\\displaystyle C_{3}$"
      ],
      "text/plain": [
       "C3"
      ]
     },
     "execution_count": 57,
     "metadata": {},
     "output_type": "execute_result"
    }
   ],
   "source": [
    "slp_eqn.subs(x, 0.0)\n"
   ]
  },
  {
   "cell_type": "code",
   "execution_count": 58,
   "metadata": {},
   "outputs": [
    {
     "data": {
      "text/latex": [
       "$\\displaystyle 10.0 C_{3} + C_{4} + 26.6666666666667 R_{10.0} + 538.916666666667$"
      ],
      "text/plain": [
       "10.0*C3 + C4 + 26.6666666666667*R_10.0 + 538.916666666667"
      ]
     },
     "execution_count": 58,
     "metadata": {},
     "output_type": "execute_result"
    }
   ],
   "source": [
    "defl_eqn.subs(x, 10.0)"
   ]
  },
  {
   "cell_type": "code",
   "execution_count": 60,
   "metadata": {},
   "outputs": [
    {
     "data": {
      "text/plain": [
       "{R_0: -R_10.0 - 70, M_0: 10*R_10.0 + 325, R_10.0: R_10.0}"
      ]
     },
     "execution_count": 60,
     "metadata": {},
     "output_type": "execute_result"
    }
   ],
   "source": [
    "b1.reaction_loads"
   ]
  },
  {
   "cell_type": "code",
   "execution_count": 21,
   "metadata": {},
   "outputs": [
    {
     "data": {
      "text/plain": [
       "[(R_0, -70), (M_0, 325)]"
      ]
     },
     "execution_count": 21,
     "metadata": {},
     "output_type": "execute_result"
    }
   ],
   "source": [
    "y"
   ]
  },
  {
   "cell_type": "code",
   "execution_count": null,
   "metadata": {},
   "outputs": [],
   "source": []
  }
 ],
 "metadata": {
  "interpreter": {
   "hash": "c316b23d48cd6ef19b0d13ade5694c66e423459663ac5f1ebe89faa22bdd94d8"
  },
  "kernelspec": {
   "display_name": "Python 3.9.12 ('streamlit-env')",
   "language": "python",
   "name": "python3"
  },
  "language_info": {
   "codemirror_mode": {
    "name": "ipython",
    "version": 3
   },
   "file_extension": ".py",
   "mimetype": "text/x-python",
   "name": "python",
   "nbconvert_exporter": "python",
   "pygments_lexer": "ipython3",
   "version": "3.9.12"
  },
  "orig_nbformat": 4
 },
 "nbformat": 4,
 "nbformat_minor": 2
}
